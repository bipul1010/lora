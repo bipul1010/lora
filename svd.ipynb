{
 "cells": [
  {
   "cell_type": "code",
   "execution_count": 6,
   "metadata": {},
   "outputs": [],
   "source": [
    "import torch\n",
    "import numpy as np\n",
    "import torch.nn.functional as F\n",
    "\n",
    "_ = torch.manual_seed(0)"
   ]
  },
  {
   "cell_type": "code",
   "execution_count": 23,
   "metadata": {},
   "outputs": [
    {
     "name": "stdout",
     "output_type": "stream",
     "text": [
      "tensor([[4.1067, 3.2213, 2.9063,  ..., 2.1950, 2.6588, 3.5515],\n",
      "        [2.9948, 2.7294, 2.9521,  ..., 1.9839, 2.1159, 3.0470],\n",
      "        [4.6565, 3.6016, 3.5979,  ..., 2.6913, 2.6484, 4.0592],\n",
      "        ...,\n",
      "        [2.7722, 2.2904, 2.0885,  ..., 2.0576, 1.1543, 2.3211],\n",
      "        [2.7738, 1.9352, 2.3717,  ..., 1.2693, 2.0573, 2.3679],\n",
      "        [3.1476, 2.8460, 2.7441,  ..., 2.2619, 1.4516, 2.5144]]) torch.Size([200, 1000])\n"
     ]
    }
   ],
   "source": [
    "d,k = 200,1000\n",
    "\n",
    "rank = 10\n",
    "\n",
    "W = torch.rand(d,rank) @ torch.rand(rank,k) ## (d,k)\n",
    "\n",
    "print(W,W.shape)"
   ]
  },
  {
   "cell_type": "code",
   "execution_count": 24,
   "metadata": {},
   "outputs": [
    {
     "name": "stdout",
     "output_type": "stream",
     "text": [
      "Rank of W: 10\n"
     ]
    }
   ],
   "source": [
    "##Finding rank using numpy\n",
    "\n",
    "W_rank = np.linalg.matrix_rank(W)\n",
    "print(f\"Rank of W: {W_rank}\")"
   ]
  },
  {
   "cell_type": "code",
   "execution_count": 32,
   "metadata": {},
   "outputs": [
    {
     "name": "stdout",
     "output_type": "stream",
     "text": [
      "W_Shape: torch.Size([200, 1000]) | U_Shape: torch.Size([200, 200]) | S_Shape:torch.Size([200]) | V_Shape:torch.Size([1000, 200])\n",
      "W_Shape: torch.Size([200, 1000]) | U_Shape: torch.Size([200, 10]) | S_Shape:torch.Size([10, 10]) | V_Shape:torch.Size([10, 1000])\n"
     ]
    }
   ],
   "source": [
    "U,S,V = torch.svd(W)\n",
    "print(f\"W_Shape: {W.shape} | U_Shape: {U.shape} | S_Shape:{S.shape} | V_Shape:{V.shape}\")\n",
    "\n",
    "U = U[:,:W_rank] ## (d,W_rank)\n",
    "S = torch.diag(S[:W_rank]) ## (W_rank,W_rank)\n",
    "V = V[:,:W_rank].transpose(0,1) ## (W_rank,k)\n",
    "\n",
    "print(f\"W_Shape: {W.shape} | U_Shape: {U.shape} | S_Shape:{S.shape} | V_Shape:{V.shape}\")"
   ]
  },
  {
   "cell_type": "code",
   "execution_count": 33,
   "metadata": {},
   "outputs": [],
   "source": [
    "A = U @ S ## (d,W_rank)\n",
    "B  = V ## (W_rank,k)"
   ]
  },
  {
   "cell_type": "code",
   "execution_count": 39,
   "metadata": {},
   "outputs": [],
   "source": [
    "x = torch.rand(1,d)\n",
    "b = torch.rand(1,k)\n",
    "\n",
    "y_actual = x @ W + b\n",
    "y_decomposed = x @ (A@B) + b"
   ]
  },
  {
   "cell_type": "code",
   "execution_count": null,
   "metadata": {},
   "outputs": [],
   "source": [
    "print(f\"Y_Actual: {y_actual}\")\n",
    "print(f\"Y_Decomposed: {y_decomposed}\")"
   ]
  },
  {
   "cell_type": "code",
   "execution_count": 43,
   "metadata": {},
   "outputs": [
    {
     "name": "stdout",
     "output_type": "stream",
     "text": [
      "Total parameters of W: 200000\n",
      "Total parameters of A and B: 12000\n"
     ]
    }
   ],
   "source": [
    "print(f\"Total parameters of W: {W.nelement()}\")\n",
    "print(f\"Total parameters of A and B: {A.nelement() + B.nelement()}\")"
   ]
  },
  {
   "cell_type": "code",
   "execution_count": null,
   "metadata": {},
   "outputs": [],
   "source": []
  }
 ],
 "metadata": {
  "kernelspec": {
   "display_name": "Python 3.9.12 64-bit",
   "name": "python3912jvsc74a57bd091fb269e76fb65aec614b254347815de645e41e2277fead135e480146975292d"
  },
  "language_info": {
   "name": "python",
   "version": ""
  },
  "metadata": {
   "interpreter": {
    "hash": "91fb269e76fb65aec614b254347815de645e41e2277fead135e480146975292d"
   }
  },
  "orig_nbformat": 2
 },
 "nbformat": 4,
 "nbformat_minor": 2
}